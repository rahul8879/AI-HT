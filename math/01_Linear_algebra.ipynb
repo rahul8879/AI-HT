{
 "cells": [
  {
   "cell_type": "code",
   "execution_count": 16,
   "id": "f3300d0e",
   "metadata": {},
   "outputs": [],
   "source": [
    "import numpy as np\n",
    "import matplotlib.pyplot as plt\n"
   ]
  },
  {
   "cell_type": "code",
   "execution_count": 17,
   "id": "dda0ddf9",
   "metadata": {},
   "outputs": [],
   "source": [
    "\n",
    "# Features (X): Each row is a customer vector [income, credit_score]\n",
    "X = np.array([\n",
    "    [50, 650], [85, 780], [40, 580], [95, 820], [35, 590],\n",
    "    [65, 710], [75, 750], [45, 610], [105, 850], [60, 690]\n",
    "])\n",
    "\n",
    "# 0: Denied, 1: Approved\n",
    "y = np.array([0, 1, 0, 1, 0, 1, 1, 0, 1, 0])\n"
   ]
  },
  {
   "cell_type": "code",
   "execution_count": 18,
   "id": "f170ccd6",
   "metadata": {},
   "outputs": [
    {
     "name": "stdout",
     "output_type": "stream",
     "text": [
      "--- The Dataset (as NumPy arrays) ---\n",
      "Features (X):\n",
      "[[ 50 650]\n",
      " [ 85 780]\n",
      " [ 40 580]\n",
      " [ 95 820]\n",
      " [ 35 590]\n",
      " [ 65 710]\n",
      " [ 75 750]\n",
      " [ 45 610]\n",
      " [105 850]\n",
      " [ 60 690]]\n",
      "\n",
      "Target (y):\n",
      "[0 1 0 1 0 1 1 0 1 0]\n"
     ]
    }
   ],
   "source": [
    "\n",
    "print(\"--- The Dataset (as NumPy arrays) ---\")\n",
    "print(\"Features (X):\")\n",
    "print(X)\n",
    "print(\"\\nTarget (y):\")\n",
    "print(y)"
   ]
  },
  {
   "cell_type": "code",
   "execution_count": null,
   "id": "b53e085e",
   "metadata": {},
   "outputs": [
    {
     "data": {
      "text/plain": [
       "array([[ 85, 780],\n",
       "       [ 95, 820],\n",
       "       [ 65, 710],\n",
       "       [ 75, 750],\n",
       "       [105, 850]])"
      ]
     },
     "execution_count": 20,
     "metadata": {},
     "output_type": "execute_result"
    }
   ],
   "source": [
    "approved = X[y == 1]\n",
    "denied = X[y == 0]\n",
    "\n"
   ]
  },
  {
   "cell_type": "code",
   "execution_count": 22,
   "id": "9ce25a7e",
   "metadata": {},
   "outputs": [
    {
     "data": {
      "text/plain": [
       "array([780, 820, 710, 750, 850])"
      ]
     },
     "execution_count": 22,
     "metadata": {},
     "output_type": "execute_result"
    }
   ],
   "source": [
    "approved[:, 1]"
   ]
  },
  {
   "cell_type": "code",
   "execution_count": 29,
   "id": "d0cf69c0",
   "metadata": {},
   "outputs": [
    {
     "data": {
      "image/png": "[encoded data removed]",
      "text/plain": [
       "<Figure size 700x500 with 1 Axes>"
      ]
     },
     "metadata": {},
     "output_type": "display_data"
    }
   ],
   "source": [
    "approved = X[y == 1]\n",
    "denied = X[y == 0]\n",
    "\n",
    "plt.figure(figsize=(7, 5))\n",
    "plt.scatter(approved[:, 0], approved[:, 1], c='green', marker='o', label='Approved')\n",
    "plt.scatter(denied[:, 0], denied[:, 1], c='red', marker='x', label='Denied')\n",
    "\n",
    "plt.title('Customer Financial Data')\n",
    "plt.xlabel('Annual Income (in $k)')\n",
    "plt.ylabel('Credit Score')\n",
    "plt.legend()\n",
    "# plt.grid(True)\n",
    "plt.show()"
   ]
  },
  {
   "cell_type": "markdown",
   "id": "645f92dd",
   "metadata": {},
   "source": [
    "### Customer Similarity: Calculating Vector Distance"
   ]
  },
  {
   "cell_type": "code",
   "execution_count": null,
   "id": "386ddd0f",
   "metadata": {},
   "outputs": [
    {
     "ename": "NameError",
     "evalue": "name 'X' is not defined",
     "output_type": "error",
     "traceback": [
      "\u001b[31m---------------------------------------------------------------------------\u001b[39m",
      "\u001b[31mNameError\u001b[39m                                 Traceback (most recent call last)",
      "\u001b[36mCell\u001b[39m\u001b[36m \u001b[39m\u001b[32mIn[1]\u001b[39m\u001b[32m, line 1\u001b[39m\n\u001b[32m----> \u001b[39m\u001b[32m1\u001b[39m customer_A = \u001b[43mX\u001b[49m[\u001b[32m0\u001b[39m]  \u001b[38;5;66;03m# [50, 650], Denied\u001b[39;00m\n\u001b[32m      2\u001b[39m customer_C = X[\u001b[32m2\u001b[39m]  \u001b[38;5;66;03m# [40, 580], Denied\u001b[39;00m\n\u001b[32m      4\u001b[39m \u001b[38;5;66;03m# This function works for any number of dimensions\u001b[39;00m\n",
      "\u001b[31mNameError\u001b[39m: name 'X' is not defined"
     ]
    },
    {
     "ename": "",
     "evalue": "",
     "output_type": "error",
     "traceback": [
      "\u001b[1;31mThe Kernel crashed while executing code in the current cell or a previous cell. \n",
      "\u001b[1;31mPlease review the code in the cell(s) to identify a possible cause of the failure. \n",
      "\u001b[1;31mClick <a href='https://aka.ms/vscodeJupyterKernelCrash'>here</a> for more info. \n",
      "\u001b[1;31mView Jupyter <a href='command:jupyter.viewOutput'>log</a> for further details."
     ]
    }
   ],
   "source": [
    "customer_A = X[0]  # [50, 650], Denied\n",
    "customer_C = X[2]  # [40, 580], Denied\n",
    "\n",
    "# This function works for any number of dimensions\n",
    "def euclidean_distance(vec1, vec2):\n",
    "    \"\"\"Calculates the distance between two vectors.\"\"\"\n",
    "    return np.sqrt(np.sum((vec1 - vec2)**2))\n",
    "\n",
    "# Calculate the distance between two similar (denied) customers\n",
    "distance = euclidean_distance(customer_A, customer_C)\n",
    "print(f\"Vector for Customer A: {customer_A}\")\n",
    "print(f\"Vector for Customer C: {customer_C}\")\n",
    "print(f\"Distance between A and C: {distance:.2f}\")\n",
    "\n",
    "# Now, compare with a dissimilar (approved) customer\n",
    "customer_B = X[1]  # [85, 780], Approved\n",
    "distance_dissimilar = euclidean_distance(customer_A, customer_B)\n",
    "print(f\"\\nVector for Customer B: {customer_B}\")\n",
    "print(f\"Distance between A and B: {distance_dissimilar:.2f}\")"
   ]
  },
  {
   "cell_type": "code",
   "execution_count": 31,
   "id": "83f47ffc",
   "metadata": {},
   "outputs": [
    {
     "name": "stdout",
     "output_type": "stream",
     "text": [
      "Defined Weights: w1=-0.15, w2=0.025\n",
      "Defined Bias: w0=-5\n",
      "\n",
      "Our Line Equation: -0.15*income + 0.025*score + -5 = 0\n"
     ]
    }
   ],
   "source": [
    "#  The Line Equation and Weights: Defining the Separator\n",
    "\n",
    "w1 = -0.15  # Weight for feature 1 (income)\n",
    "w2 = 0.025 # Weight for feature 2 (credit_score)\n",
    "w0 = -5    # Bias/Intercept\n",
    "\n",
    "print(f\"Defined Weights: w1={w1}, w2={w2}\")\n",
    "print(f\"Defined Bias: w0={w0}\")\n",
    "print(f\"\\nOur Line Equation: {w1}*income + {w2}*score + {w0} = 0\")"
   ]
  },
  {
   "cell_type": "code",
   "execution_count": 32,
   "id": "b359da22",
   "metadata": {},
   "outputs": [
    {
     "name": "stdout",
     "output_type": "stream",
     "text": [
      "Weight Vector W: [-0.15   0.025]\n",
      "New Applicant X_new: [ 90 760]\n",
      "Bias w0: -5\n",
      "--- Calculation ---\n",
      "Score (W • X + w0) = 0.50\n",
      "Prediction: Approved ✅\n"
     ]
    }
   ],
   "source": [
    "\n",
    "W = np.array([w1, w2])\n",
    "X_new = np.array([90, 760]) \n",
    "\n",
    "# Perform the dot product calculation\n",
    "score = np.dot(W, X_new) + w0\n",
    "\n",
    "print(f\"Weight Vector W: {W}\")\n",
    "print(f\"New Applicant X_new: {X_new}\")\n",
    "print(f\"Bias w0: {w0}\")\n",
    "print(\"--- Calculation ---\")\n",
    "print(f\"Score (W • X + w0) = {score:.2f}\")\n",
    "\n",
    "if score > 0:\n",
    "    print(\"Prediction: Approved ✅\")\n",
    "else:\n",
    "    print(\"Prediction: Denied ❌\")"
   ]
  },
  {
   "cell_type": "code",
   "execution_count": 37,
   "id": "5869e0cc",
   "metadata": {},
   "outputs": [],
   "source": [
    "w1 = -0.35  # Weight for feature 1 (income)\n",
    "w2 = 0.025 # Weight for feature 2 (credit_score)\n",
    "w0 = 5 "
   ]
  },
  {
   "cell_type": "code",
   "execution_count": 38,
   "id": "13869f59",
   "metadata": {},
   "outputs": [
    {
     "data": {
      "image/png": "[encoded data removed]",
      "text/plain": [
       "<Figure size 1000x600 with 1 Axes>"
      ]
     },
     "metadata": {},
     "output_type": "display_data"
    }
   ],
   "source": [
    "# Plot the original data again\n",
    "plt.figure(figsize=(10, 6))\n",
    "plt.scatter(approved[:, 0], approved[:, 1], c='green', marker='o', label='Approved')\n",
    "plt.scatter(denied[:, 0], denied[:, 1], c='red', marker='x', label='Denied')\n",
    "\n",
    "\n",
    "income_vals = np.array([X[:, 0].min() - 5, X[:, 0].max() + 5])\n",
    "\n",
    "score_vals = (-w1 * income_vals - w0) / w2\n",
    "\n",
    "\n",
    "plt.plot(income_vals, score_vals, 'b-', label='Manual Decision Boundary')\n",
    "plt.title('Manual Separation of Customer Data')\n",
    "plt.xlabel('Annual Income (in $k)')\n",
    "plt.ylabel('Credit Score')\n",
    "plt.legend()\n",
    "plt.grid(True)\n",
    "plt.show()"
   ]
  },
  {
   "cell_type": "markdown",
   "id": "ff94efd1",
   "metadata": {},
   "source": [
    "## 🧠 The Business Problem: Simple Portfolio Allocation 📈\n",
    "\n",
    "An investor in **Varanasi** has a total of **₹1,00,000** to invest.  \n",
    "They want to allocate this capital across two assets to achieve a **precise total annual return of ₹7,500**.\n",
    "\n",
    "### 🏦 The Investment Options:\n",
    "\n",
    "- **Low-Risk Bond**  \n",
    "  🟢 Expected Annual Return: **5%**\n",
    "\n",
    "- **High-Risk Stock**  \n",
    "  🔴 Expected Annual Return: **12%**\n",
    "\n",
    "---\n",
    "\n",
    "### ❓ The Objective\n",
    "\n",
    "Determine the **exact amount of money to invest in each asset** such that:\n",
    "\n",
    "- ✅ Total investment = ₹1,00,000  \n",
    "- ✅ Total annual return = ₹7,500  \n",
    "\n",
    "This is a **linear allocation problem** involving **two variables** and **two constraints**:\n",
    "\n",
    "1. **x + y = 1,00,000**  \n",
    "2. **0.05x + 0.12y = 7,500**\n",
    "\n",
    "Where:  \n",
    "- `x` = amount invested in bonds  \n",
    "- `y` = amount invested in stocks\n"
   ]
  },
  {
   "cell_type": "markdown",
   "id": "416d028d",
   "metadata": {},
   "source": [
    "## 📐 Mathematical Formulation\n",
    "\n",
    "Let:\n",
    "\n",
    "- `x` = amount of money (in ₹) invested in the **Low-Risk Bond**  \n",
    "- `y` = amount of money (in ₹) invested in the **High-Risk Stock**\n",
    "\n",
    "---\n",
    "\n",
    "### 🔢 System of Equations\n",
    "\n",
    "1. **Total Investment Equation:**  \n",
    "   \\( x + y = 1,00,000 \\)\n",
    "\n",
    "2. **Total Return Equation:**  \n",
    "   \\( 0.05x + 0.12y = 7,500 \\)\n",
    "\n",
    "---\n",
    "\n",
    "### 🧮 Linear Algebra Representation: Ax = b\n",
    "\n",
    "We can write this system as a **matrix equation**:\n",
    "\n",
    "\\[\n",
    "\\begin{bmatrix}\n",
    "1 & 1 \\\\\n",
    "0.05 & 0.12\n",
    "\\end{bmatrix}\n",
    "\\begin{bmatrix}\n",
    "x \\\\\n",
    "y\n",
    "\\end{bmatrix}\n",
    "=\n",
    "\\begin{bmatrix}\n",
    "100000 \\\\\n",
    "7500\n",
    "\\end{bmatrix}\n",
    "\\]\n",
    "\n",
    "Where:\n",
    "\n",
    "- **A** is the coefficient matrix  \n",
    "  \\[\n",
    "  A =\n",
    "  \\begin{bmatrix}\n",
    "  1 & 1 \\\\\n",
    "  0.05 & 0.12\n",
    "  \\end{bmatrix}\n",
    "  \\]\n",
    "\n",
    "- **x** is the variable vector  \n",
    "  \\[\n",
    "  x =\n",
    "  \\begin{bmatrix}\n",
    "  x \\\\\n",
    "  y\n",
    "  \\end{bmatrix}\n",
    "  \\]\n",
    "\n",
    "- **b** is the constant vector  \n",
    "  \\[\n",
    "  b =\n",
    "  \\begin{bmatrix}\n",
    "  100000 \\\\\n",
    "  7500\n",
    "  \\end{bmatrix}\n",
    "  \\]\n",
    "\n",
    "This matrix equation compactly represents our portfolio allocation problem.\n"
   ]
  },
  {
   "cell_type": "code",
   "execution_count": null,
   "id": "5a3781b0",
   "metadata": {},
   "outputs": [],
   "source": [
    "import numpy as np\n",
    "\n",
    "# A = The coefficient matrix\n",
    "A = np.array([\n",
    "    [1, 1],\n",
    "    [0.05, 0.12]\n",
    "])\n",
    "\n",
    "# b = The constant vector (total capital, target return)\n",
    "b = np.array([100000, 7500])\n",
    "\n",
    "\n",
    "\n",
    "# Step 1: Calculate the inverse of the coefficient matrix A\n",
    "A_inverse = np.linalg.inv(A)\n",
    "\n",
    "# Step 2: Multiply the inverse of A by b to find the solution vector x\n",
    "x_solution = np.dot(A_inverse, b)\n",
    "\n",
    "# The result contains the amounts for [x, y]\n",
    "bond_investment = x_solution[0]\n",
    "stock_investment = x_solution[1]\n",
    "\n",
    "print(\"--- The Financial Solution ---\")\n",
    "print(f\"Invest ₹{bond_investment:,.2f} in the Low-Risk Bond.\")\n",
    "print(f\"Invest ₹{stock_investment:,.2f} in the High-Risk Stock.\")\n",
    "\n",
    "# --- Verification ---\n",
    "total_investment = bond_investment + stock_investment\n",
    "total_return = (0.05 * bond_investment) + (0.12 * stock_investment)\n",
    "\n",
    "print(\"\\n--- Verification ---\")\n",
    "print(f\"Total Amount Invested: ₹{total_investment:,.2f}\")\n",
    "print(f\"Total Annual Return: ₹{total_return:,.2f}\")"
   ]
  },
  {
   "cell_type": "code",
   "execution_count": null,
   "id": "e7c9a9e0",
   "metadata": {},
   "outputs": [],
   "source": []
  }
 ],
 "metadata": {
  "kernelspec": {
   "display_name": "ai-env (3.11.4)",
   "language": "python",
   "name": "python3"
  },
  "language_info": {
   "codemirror_mode": {
    "name": "ipython",
    "version": 3
   },
   "file_extension": ".py",
   "mimetype": "text/x-python",
   "name": "python",
   "nbconvert_exporter": "python",
   "pygments_lexer": "ipython3",
   "version": "3.11.4"
  }
 },
 "nbformat": 4,
 "nbformat_minor": 5
}
