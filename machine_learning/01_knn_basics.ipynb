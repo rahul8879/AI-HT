{
 "cells": [
  {
   "cell_type": "code",
   "execution_count": 5,
   "id": "9e185f76",
   "metadata": {},
   "outputs": [],
   "source": [
    "import pandas as pd\n",
    "import numpy as np\n",
    "import matplotlib.pyplot as plt\n",
    "from sklearn.neighbors import KNeighborsClassifier\n",
    "from sklearn.metrics import accuracy_score\n",
    "from sklearn.model_selection import train_test_split"
   ]
  },
  {
   "cell_type": "code",
   "execution_count": 4,
   "metadata": {},
   "outputs": [
    {
     "data": {
      "text/html": [
       "<div>\n",
       "<style scoped>\n",
       "    .dataframe tbody tr th:only-of-type {\n",
       "        vertical-align: middle;\n",
       "    }\n",
       "\n",
       "    .dataframe tbody tr th {\n",
       "        vertical-align: top;\n",
       "    }\n",
       "\n",
       "    .dataframe thead th {\n",
       "        text-align: right;\n",
       "    }\n",
       "</style>\n",
       "<table border=\"1\" class=\"dataframe\">\n",
       "  <thead>\n",
       "    <tr style=\"text-align: right;\">\n",
       "      <th></th>\n",
       "      <th>Id</th>\n",
       "      <th>SepalLengthCm</th>\n",
       "      <th>SepalWidthCm</th>\n",
       "      <th>PetalLengthCm</th>\n",
       "      <th>PetalWidthCm</th>\n",
       "      <th>Species</th>\n",
       "    </tr>\n",
       "  </thead>\n",
       "  <tbody>\n",
       "    <tr>\n",
       "      <th>0</th>\n",
       "      <td>1</td>\n",
       "      <td>5.1</td>\n",
       "      <td>3.5</td>\n",
       "      <td>1.4</td>\n",
       "      <td>0.2</td>\n",
       "      <td>Iris-setosa</td>\n",
       "    </tr>\n",
       "    <tr>\n",
       "      <th>1</th>\n",
       "      <td>2</td>\n",
       "      <td>4.9</td>\n",
       "      <td>3.0</td>\n",
       "      <td>1.4</td>\n",
       "      <td>0.2</td>\n",
       "      <td>Iris-setosa</td>\n",
       "    </tr>\n",
       "  </tbody>\n",
       "</table>\n",
       "</div>"
      ],
      "text/plain": [
       "   Id  SepalLengthCm  SepalWidthCm  PetalLengthCm  PetalWidthCm      Species\n",
       "0   1            5.1           3.5            1.4           0.2  Iris-setosa\n",
       "1   2            4.9           3.0            1.4           0.2  Iris-setosa"
      ]
     },
     "execution_count": 4,
     "metadata": {},
     "output_type": "execute_result"
    }
   ],
   "source": [
    "iris = pd.read_csv('iris.csv')\n",
    "iris.head(2)"
   ]
  },
  {
   "cell_type": "code",
   "execution_count": 6,
   "id": "d7b9ed38",
   "metadata": {},
   "outputs": [
    {
     "data": {
      "text/plain": [
       "(150, 6)"
      ]
     },
     "execution_count": 6,
     "metadata": {},
     "output_type": "execute_result"
    }
   ],
   "source": [
    "iris.shape"
   ]
  },
  {
   "cell_type": "code",
   "execution_count": 14,
   "id": "c450c41d",
   "metadata": {},
   "outputs": [],
   "source": [
    "required_col = ['SepalLengthCm',\t'SepalWidthCm',\t'PetalLengthCm',\t'PetalWidthCm']\n",
    "Target_col = 'Species'\n",
    "\n",
    "def mapping_category(species):\n",
    "    if species=='Iris-setosa':\n",
    "        return 0\n",
    "    elif species=='Iris-versicolor':\n",
    "        return 1\n",
    "    else: \n",
    "        return 2\n",
    "iris['CLASS'] = iris[Target_col].apply(mapping_category)"
   ]
  },
  {
   "cell_type": "code",
   "execution_count": null,
   "id": "773378e3",
   "metadata": {},
   "outputs": [],
   "source": [
    "X = iris[required_col]\n",
    "Y = iris['CLASS']"
   ]
  },
  {
   "cell_type": "code",
   "execution_count": 35,
   "metadata": {},
   "outputs": [],
   "source": [
    "X_train, X_test, y_train, y_test = train_test_split(\n",
    "    X, Y, test_size=0.33, random_state=42)\n",
    "\n"
   ]
  },
  {
   "cell_type": "code",
   "execution_count": 19,
   "id": "22ef9ad9",
   "metadata": {},
   "outputs": [],
   "source": [
    "import seaborn as sns"
   ]
  },
  {
   "cell_type": "code",
   "execution_count": 21,
   "metadata": {},
   "outputs": [
    {
     "name": "stdout",
     "output_type": "stream",
     "text": [
      "--- Training Set Distribution ---\n",
      "Value Counts:\n",
      "CLASS\n",
      "1    35\n",
      "2    34\n",
      "0    31\n",
      "Name: count, dtype: int64\n",
      "\n",
      "Percentages:\n",
      "CLASS\n",
      "1    0.35\n",
      "2    0.34\n",
      "0    0.31\n",
      "Name: proportion, dtype: float64\n",
      "\n",
      "========================================\n",
      "\n",
      "--- Testing Set Distribution ---\n",
      "Value Counts:\n",
      "CLASS\n",
      "0    19\n",
      "2    16\n",
      "1    15\n",
      "Name: count, dtype: int64\n",
      "\n",
      "Percentages in Test Data:\n",
      "CLASS\n",
      "0    0.38\n",
      "2    0.32\n",
      "1    0.30\n",
      "Name: proportion, dtype: float64\n",
      "\n",
      "========================================\n",
      "\n"
     ]
    },
    {
     "name": "stderr",
     "output_type": "stream",
     "text": [
      "C:\\Users\\Rahul\\AppData\\Local\\Temp\\ipykernel_33728\\342177583.py:31: FutureWarning: \n",
      "\n",
      "Passing `palette` without assigning `hue` is deprecated and will be removed in v0.14.0. Assign the `x` variable to `hue` and set `legend=False` for the same effect.\n",
      "\n",
      "  sns.countplot(x=y_train, ax=axes[0], palette='pastel')\n",
      "C:\\Users\\Rahul\\AppData\\Local\\Temp\\ipykernel_33728\\342177583.py:37: FutureWarning: \n",
      "\n",
      "Passing `palette` without assigning `hue` is deprecated and will be removed in v0.14.0. Assign the `x` variable to `hue` and set `legend=False` for the same effect.\n",
      "\n",
      "  sns.countplot(x=y_test, ax=axes[1], palette='pastel')\n"
     ]
    },
    {
     "data": {
      "image/png": "[encoded data removed]",
      "text/plain": [
       "<Figure size 1200x500 with 2 Axes>"
      ]
     },
     "metadata": {},
     "output_type": "display_data"
    },
    {
     "name": "stdout",
     "output_type": "stream",
     "text": [
      "--- Comparison of Proportions ---\n",
      "      Original % Train %  Test %\n",
      "CLASS                           \n",
      "0         33.33%  31.00%  38.00%\n",
      "1         33.33%  35.00%  30.00%\n",
      "2         33.33%  34.00%  32.00%\n"
     ]
    }
   ],
   "source": [
    "train_counts = y_train.value_counts()\n",
    "train_percentages = y_train.value_counts(normalize=True)\n",
    "\n",
    "# Get the value counts for the testing set\n",
    "test_counts = y_test.value_counts()\n",
    "test_percentages = y_test.value_counts(normalize=True)\n",
    "\n",
    "print(\"--- Training Set Distribution ---\")\n",
    "print(\"Value Counts:\")\n",
    "print(train_counts)\n",
    "print(\"\\nPercentages:\")\n",
    "print(train_percentages)\n",
    "print(\"\\n\" + \"=\"*40 + \"\\n\")\n",
    "\n",
    "\n",
    "print(\"--- Testing Set Distribution ---\")\n",
    "print(\"Value Counts:\")\n",
    "print(test_counts)\n",
    "print(\"\\nPercentages in Test Data:\")\n",
    "print(test_percentages)\n",
    "print(\"\\n\" + \"=\"*40 + \"\\n\")\n",
    "\n",
    "\n",
    "# --- 4. Visualize the Distributions ---\n",
    "# A visual check is often the most effective way to compare.\n",
    "\n",
    "fig, axes = plt.subplots(1, 2, figsize=(12, 5), sharey=True)\n",
    "fig.suptitle('Distribution of Target Variable in Train and Test Sets', fontsize=16)\n",
    "\n",
    "# Plot for Training Set\n",
    "sns.countplot(x=y_train, ax=axes[0], palette='pastel')\n",
    "axes[0].set_title('Training Set')\n",
    "axes[0].set_xlabel('Class')\n",
    "axes[0].set_ylabel('Count')\n",
    "\n",
    "# Plot for Testing Set\n",
    "sns.countplot(x=y_test, ax=axes[1], palette='pastel')\n",
    "axes[1].set_title('Test Set')\n",
    "axes[1].set_xlabel('Class')\n",
    "axes[1].set_ylabel('') # Hide y-label as it's shared\n",
    "\n",
    "plt.tight_layout(rect=[0, 0, 1, 0.96])\n",
    "plt.show()\n",
    "\n",
    "# --- Create a DataFrame for easy comparison ---\n",
    "comparison_df = pd.DataFrame({\n",
    "    'Original %': Y.value_counts(normalize=True),\n",
    "    'Train %': train_percentages,\n",
    "    'Test %': test_percentages,\n",
    "})\n",
    "comparison_df['Train %'] = comparison_df['Train %'].map('{:.2%}'.format)\n",
    "comparison_df['Test %'] = comparison_df['Test %'].map('{:.2%}'.format)\n",
    "comparison_df['Original %'] = comparison_df['Original %'].map('{:.2%}'.format)\n",
    "\n",
    "\n",
    "print(\"--- Comparison of Proportions ---\")\n",
    "print(comparison_df)"
   ]
  },
  {
   "cell_type": "code",
   "execution_count": 24,
   "id": "03ff180d",
   "metadata": {},
   "outputs": [
    {
     "data": {
      "text/plain": [
       "CLASS\n",
       "0    0.333333\n",
       "1    0.333333\n",
       "2    0.333333\n",
       "Name: proportion, dtype: float64"
      ]
     },
     "execution_count": 24,
     "metadata": {},
     "output_type": "execute_result"
    }
   ],
   "source": [
    "iris.CLASS.value_counts(normalize=True)"
   ]
  },
  {
   "cell_type": "code",
   "execution_count": 38,
   "id": "3d9ff5a4",
   "metadata": {},
   "outputs": [],
   "source": [
    "neigh = KNeighborsClassifier(n_neighbors=50)\n",
    "model = neigh.fit(X_train,y_train) # model KNN = 3-NN\n",
    "predicted_labels = model.predict(X_test)\n"
   ]
  },
  {
   "cell_type": "code",
   "execution_count": null,
   "id": "06ea79a1",
   "metadata": {},
   "outputs": [],
   "source": [
    "# X_test['Predicted_class'] = predicted_labels\n",
    "# X_test['Actual_class']= y_test"
   ]
  },
  {
   "cell_type": "code",
   "execution_count": 33,
   "id": "9ae445ec",
   "metadata": {},
   "outputs": [],
   "source": [
    "# X_test"
   ]
  },
  {
   "cell_type": "code",
   "execution_count": 39,
   "id": "90038393",
   "metadata": {},
   "outputs": [
    {
     "data": {
      "text/plain": [
       "0.92"
      ]
     },
     "execution_count": 39,
     "metadata": {},
     "output_type": "execute_result"
    }
   ],
   "source": [
    "accuracy_score(y_test,predicted_labels)"
   ]
  },
  {
   "cell_type": "code",
   "execution_count": null,
   "id": "6c40c240",
   "metadata": {},
   "outputs": [],
   "source": []
  }
 ],
 "metadata": {
  "kernelspec": {
   "display_name": "ai-env (3.11.4)",
   "language": "python",
   "name": "python3"
  },
  "language_info": {
   "codemirror_mode": {
    "name": "ipython",
    "version": 3
   },
   "file_extension": ".py",
   "mimetype": "text/x-python",
   "name": "python",
   "nbconvert_exporter": "python",
   "pygments_lexer": "ipython3",
   "version": "3.11.4"
  }
 },
 "nbformat": 4,
 "nbformat_minor": 5
}
