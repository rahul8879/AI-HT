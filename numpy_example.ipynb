{
 "cells": [
  {
   "cell_type": "markdown",
   "id": "420a44bb",
   "metadata": {},
   "source": [
    "# NumPy: Basic to Advanced\n",
    "\n",
    "## I. The Basics of NumPy\n",
    "\n",
    "### 1. Why NumPy?\n",
    "\n",
    "Python lists are flexible but can be slow for large numerical operations. NumPy arrays (`ndarray`) offer:\n",
    "\n",
    "- **Speed**: Operations are implemented in C, making them much faster.\n",
    "- **Memory Efficiency**: NumPy arrays consume less memory than Python lists for storing numerical data.\n",
    "- **Convenience**: A rich ecosystem of functions for:\n",
    "  - Mathematical operations\n",
    "  - Logical operations\n",
    "  - Shape manipulation\n",
    "  - Sorting and selecting\n",
    "  - Input/Output (I/O)\n",
    "  - Discrete Fourier transforms\n",
    "  - Basic linear algebra\n",
    "  - Basic statistical operations\n",
    "  - Random simulation\n"
   ]
  },
  {
   "cell_type": "code",
   "execution_count": 13,
   "id": "39c6ad47",
   "metadata": {},
   "outputs": [
    {
     "name": "stdout",
     "output_type": "stream",
     "text": [
      "1D Array: [1 2 3 4 5], Shape: (5,), Dtype: int64\n",
      "2D Array:\n",
      "[[1 2 3]\n",
      " [4 5 6]], Shape: (2, 3), Dtype: int64\n"
     ]
    }
   ],
   "source": [
    "import numpy as np\n",
    "\n",
    "arr1d = np.array([1, 2, 3, 4, 5])\n",
    "print(f\"1D Array: {arr1d}, Shape: {arr1d.shape}, Dtype: {arr1d.dtype}\")\n",
    "\n",
    "arr2d = np.array([[1, 2, 3], [4, 5, 6]])\n",
    "print(f\"2D Array:\\n{arr2d}, Shape: {arr2d.shape}, Dtype: {arr2d.dtype}\")"
   ]
  },
  {
   "cell_type": "code",
   "execution_count": 15,
   "id": "10a53b19",
   "metadata": {},
   "outputs": [
    {
     "name": "stdout",
     "output_type": "stream",
     "text": [
      "Zeros Array:\n",
      "[[0. 0. 0. 0.]\n",
      " [0. 0. 0. 0.]\n",
      " [0. 0. 0. 0.]]\n",
      "Ones Array:\n",
      "[[1 1 1]\n",
      " [1 1 1]]\n"
     ]
    }
   ],
   "source": [
    "zeros_arr = np.zeros((3, 4)) # 3 rows, 4 columns\n",
    "print(f\"Zeros Array:\\n{zeros_arr}\")\n",
    "\n",
    "ones_arr = np.ones((2, 3), dtype=int) # Specify data type\n",
    "print(f\"Ones Array:\\n{ones_arr}\")\n",
    "\n",
    "# empty_arr = np.empty((2, 2))\n",
    "# print(f\"Empty Array:\\n{empty_arr}\")"
   ]
  },
  {
   "cell_type": "markdown",
   "id": "45f717f7",
   "metadata": {},
   "source": [
    "### 2. `np.arange()`\n",
    "\n",
    "`np.arange()` creates an array with evenly spaced values within a given interval, similar to Python’s built-in `range()` function.\n",
    "\n",
    "**Syntax**:\n",
    "```python\n",
    "np.arange(start, stop, step)\n"
   ]
  },
  {
   "cell_type": "code",
   "execution_count": 16,
   "id": "6c0ca07e",
   "metadata": {},
   "outputs": [
    {
     "name": "stdout",
     "output_type": "stream",
     "text": [
      "Arange Array: [0 2 4 6 8]\n"
     ]
    }
   ],
   "source": [
    "arange_arr = np.arange(0, 10, 2) # Start, Stop (exclusive), Step\n",
    "print(f\"Arange Array: {arange_arr}\")"
   ]
  },
  {
   "cell_type": "markdown",
   "id": "ef36638e",
   "metadata": {},
   "source": [
    "### 3. `np.linspace()`\n",
    "\n",
    "`np.linspace()` creates an array of evenly spaced numbers over a specified interval. Unlike `np.arange()`, you specify how many values you want, not the step size.\n",
    "\n",
    "**Syntax**:\n",
    "```python\n",
    "np.linspace(start, stop, num=50, endpoint=True, retstep=False)\n"
   ]
  },
  {
   "cell_type": "code",
   "execution_count": 19,
   "id": "6a7a05ce",
   "metadata": {},
   "outputs": [
    {
     "name": "stdout",
     "output_type": "stream",
     "text": [
      "Linspace Array: [ 0.          1.11111111  2.22222222  3.33333333  4.44444444  5.55555556\n",
      "  6.66666667  7.77777778  8.88888889 10.        ]\n"
     ]
    }
   ],
   "source": [
    "linspace_arr = np.linspace(0, 10, 10) # Start, Stop (inclusive), Number of samples\n",
    "print(f\"Linspace Array: {linspace_arr}\")"
   ]
  },
  {
   "cell_type": "markdown",
   "id": "68acfeea",
   "metadata": {},
   "source": [
    "### 5. Array Attributes\n",
    "\n",
    "NumPy arrays come with several useful attributes:\n",
    "\n",
    "- `.ndim` – Number of dimensions (axes)  \n",
    "- `.shape` – Tuple representing the dimensions of the array  \n",
    "- `.size` – Total number of elements in the array  \n",
    "- `.dtype` – Data type of the array elements\n",
    "\n",
    "**Example**:\n",
    "```python\n",
    "import numpy as np\n",
    "\n",
    "arr = np.array([[1, 2, 3], [4, 5, 6]])\n",
    "\n",
    "print(\"Array:\\n\", arr)\n",
    "print(\"Dimensions (ndim):\", arr.ndim)\n",
    "print(\"Shape:\", arr.shape)\n",
    "print(\"Size:\", arr.size)\n",
    "pri\n"
   ]
  },
  {
   "cell_type": "code",
   "execution_count": 20,
   "id": "0c96847e",
   "metadata": {},
   "outputs": [
    {
     "name": "stdout",
     "output_type": "stream",
     "text": [
      "Dimensions: 2\n",
      "Shape: (2, 3)\n",
      "Size: 6\n",
      "Data type: int64\n"
     ]
    }
   ],
   "source": [
    "arr = np.array([[1, 2, 3], [4, 5, 6]])\n",
    "print(f\"Dimensions: {arr.ndim}\")\n",
    "print(f\"Shape: {arr.shape}\")\n",
    "print(f\"Size: {arr.size}\")\n",
    "print(f\"Data type: {arr.dtype}\")"
   ]
  },
  {
   "cell_type": "markdown",
   "id": "121e38f2",
   "metadata": {},
   "source": [
    "### 6. Indexing and Slicing\n",
    "\n",
    "Indexing and slicing in NumPy are similar to Python lists, but with powerful N-dimensional capabilities.\n",
    "\n",
    "#### 🟦 1D Array\n",
    "\n",
    "```python\n",
    "import numpy as np\n",
    "\n",
    "arr = np.array([10, 20, 30, 40, 50])\n",
    "\n",
    "# Indexing\n",
    "print(\"Element at index 1:\", arr[1])        # 20\n",
    "\n",
    "# Slicing\n",
    "print(\"Elements from index 1 to 3:\", arr[1:4])  # [20 30 40]\n",
    "print(\"Every second element:\", arr[::2])       # [10 30 50]\n",
    "print(\"Reversed array:\", arr[::-1])            # [50 40 30 20 10]\n"
   ]
  },
  {
   "cell_type": "code",
   "execution_count": 22,
   "id": "1bf38132",
   "metadata": {},
   "outputs": [
    {
     "name": "stdout",
     "output_type": "stream",
     "text": [
      "Element at index 2: 30\n",
      "Slice from index 1 to 3 (exclusive): [20 30 40]\n",
      "Every other element: [20 40]\n"
     ]
    }
   ],
   "source": [
    "a = np.array([10, 20, 30, 40, 50])\n",
    "print(f\"Element at index 2: {a[2]}\")\n",
    "print(f\"Slice from index 1 to 3 (exclusive): {a[1:4]}\")\n",
    "print(f\"Every other element: {a[1::2]}\")"
   ]
  },
  {
   "cell_type": "code",
   "execution_count": 24,
   "id": "a106a7f5",
   "metadata": {},
   "outputs": [
    {
     "name": "stdout",
     "output_type": "stream",
     "text": [
      "Element at (0, 1): 2\n",
      "First row: [1 2 3]\n",
      "Second column: [2 5 8]\n",
      "Sub-array (first 2 rows, first 2 columns):\n",
      "[[1 2]\n",
      " [4 5]]\n"
     ]
    }
   ],
   "source": [
    "b = np.array([[1, 2, 3], [4, 5, 6], [7, 8, 9]])\n",
    "print(f\"Element at (0, 1): {b[0, 1]}\")\n",
    "print(f\"First row: {b[0, :]}\") # Or simply b[0]\n",
    "print(f\"Second column: {b[:, 1]}\")\n",
    "print(f\"Sub-array (first 2 rows, first 2 columns):\\n{b[:2, :2]}\")"
   ]
  },
  {
   "cell_type": "code",
   "execution_count": 25,
   "id": "b7718c4f",
   "metadata": {},
   "outputs": [
    {
     "name": "stdout",
     "output_type": "stream",
     "text": [
      "[False False False  True  True]\n",
      "Elements greater than 20: [25 30]\n",
      "Elements greater than 20 (shorthand): [25 30]\n"
     ]
    }
   ],
   "source": [
    "# Boolean Indexing: Select elements based on a boolean condition.\n",
    "data = np.array([10, 15, 20, 25, 30])\n",
    "mask = data > 20\n",
    "print(mask)\n",
    "print(f\"Elements greater than 20: {data[mask]}\")\n",
    "print(f\"Elements greater than 20 (shorthand): {data[data > 20]}\")"
   ]
  },
  {
   "cell_type": "code",
   "execution_count": 30,
   "metadata": {},
   "outputs": [
    {
     "name": "stdout",
     "output_type": "stream",
     "text": [
      "Original:\n",
      "[ 0  1  2  3  4  5  6  7  8  9 10 11]\n",
      "Reshaped:\n",
      "[[ 0  1  2  3]\n",
      " [ 4  5  6  7]\n",
      " [ 8  9 10 11]]\n",
      "Inferred Shape:\n",
      "[[ 0  1  2  3  4  5]\n",
      " [ 6  7  8  9 10 11]]\n"
     ]
    }
   ],
   "source": [
    "# Reshaping and Resizing\n",
    "\n",
    "arr = np.arange(12)\n",
    "\n",
    "reshaped_arr = arr.reshape((3, 4))\n",
    "print(f\"Original:\\n{arr}\\nReshaped:\\n{reshaped_arr}\")\n",
    "\n",
    "# -1 can be used for one dimension to be inferred\n",
    "inferred_shape = arr.reshape((2, -1))\n",
    "print(f\"Inferred Shape:\\n{inferred_shape}\")"
   ]
  },
  {
   "cell_type": "code",
   "execution_count": null,
   "metadata": {},
   "outputs": [],
   "source": [
    "# ravel(): Flattens an array into a 1D array (returns a view if possible).\n",
    "\n",
    "# flatten(): Flattens an array into a 1D array (always returns a copy)."
   ]
  },
  {
   "cell_type": "code",
   "execution_count": 31,
   "id": "8dde25d8",
   "metadata": {},
   "outputs": [
    {
     "name": "stdout",
     "output_type": "stream",
     "text": [
      "Raveled: [ 0  1  2  3  4  5  6  7  8  9 10 11]\n",
      "Flattened: [ 0  1  2  3  4  5  6  7  8  9 10 11]\n"
     ]
    }
   ],
   "source": [
    "flat_arr_ravel = reshaped_arr.ravel()\n",
    "flat_arr_flatten = reshaped_arr.flatten()\n",
    "print(f\"Raveled: {flat_arr_ravel}\")\n",
    "print(f\"Flattened: {flat_arr_flatten}\")\n"
   ]
  },
  {
   "cell_type": "code",
   "execution_count": 37,
   "id": "2cd2471e",
   "metadata": {},
   "outputs": [
    {
     "name": "stdout",
     "output_type": "stream",
     "text": [
      "Help on function test in module __main__:\n",
      "\n",
      "test()\n",
      "    this is demo app\n",
      "\n"
     ]
    }
   ],
   "source": [
    "def test():\n",
    "    '''\n",
    "    this is demo app\n",
    "    '''\n",
    "    return 'All good!'\n",
    "\n",
    "\n",
    "\n",
    "help(test)"
   ]
  },
  {
   "cell_type": "code",
   "execution_count": 39,
   "id": "62bc86b7",
   "metadata": {},
   "outputs": [
    {
     "name": "stdout",
     "output_type": "stream",
     "text": [
      "Help on _ArrayFunctionDispatcher in module numpy:\n",
      "\n",
      "linspace(start, stop, num=50, endpoint=True, retstep=False, dtype=None, axis=0, *, device=None)\n",
      "    Return evenly spaced numbers over a specified interval.\n",
      "    \n",
      "    Returns `num` evenly spaced samples, calculated over the\n",
      "    interval [`start`, `stop`].\n",
      "    \n",
      "    The endpoint of the interval can optionally be excluded.\n",
      "    \n",
      "    .. versionchanged:: 1.20.0\n",
      "        Values are rounded towards ``-inf`` instead of ``0`` when an\n",
      "        integer ``dtype`` is specified. The old behavior can\n",
      "        still be obtained with ``np.linspace(start, stop, num).astype(int)``\n",
      "    \n",
      "    Parameters\n",
      "    ----------\n",
      "    start : array_like\n",
      "        The starting value of the sequence.\n",
      "    stop : array_like\n",
      "        The end value of the sequence, unless `endpoint` is set to False.\n",
      "        In that case, the sequence consists of all but the last of ``num + 1``\n",
      "        evenly spaced samples, so that `stop` is excluded.  Note that the step\n",
      "        size changes when `endpoint` is False.\n",
      "    num : int, optional\n",
      "        Number of samples to generate. Default is 50. Must be non-negative.\n",
      "    endpoint : bool, optional\n",
      "        If True, `stop` is the last sample. Otherwise, it is not included.\n",
      "        Default is True.\n",
      "    retstep : bool, optional\n",
      "        If True, return (`samples`, `step`), where `step` is the spacing\n",
      "        between samples.\n",
      "    dtype : dtype, optional\n",
      "        The type of the output array.  If `dtype` is not given, the data type\n",
      "        is inferred from `start` and `stop`. The inferred dtype will never be\n",
      "        an integer; `float` is chosen even if the arguments would produce an\n",
      "        array of integers.\n",
      "    axis : int, optional\n",
      "        The axis in the result to store the samples.  Relevant only if start\n",
      "        or stop are array-like.  By default (0), the samples will be along a\n",
      "        new axis inserted at the beginning. Use -1 to get an axis at the end.\n",
      "    device : str, optional\n",
      "        The device on which to place the created array. Default: None.\n",
      "        For Array-API interoperability only, so must be ``\"cpu\"`` if passed.\n",
      "    \n",
      "        .. versionadded:: 2.0.0\n",
      "    \n",
      "    Returns\n",
      "    -------\n",
      "    samples : ndarray\n",
      "        There are `num` equally spaced samples in the closed interval\n",
      "        ``[start, stop]`` or the half-open interval ``[start, stop)``\n",
      "        (depending on whether `endpoint` is True or False).\n",
      "    step : float, optional\n",
      "        Only returned if `retstep` is True\n",
      "    \n",
      "        Size of spacing between samples.\n",
      "    \n",
      "    \n",
      "    See Also\n",
      "    --------\n",
      "    arange : Similar to `linspace`, but uses a step size (instead of the\n",
      "             number of samples).\n",
      "    geomspace : Similar to `linspace`, but with numbers spaced evenly on a log\n",
      "                scale (a geometric progression).\n",
      "    logspace : Similar to `geomspace`, but with the end points specified as\n",
      "               logarithms.\n",
      "    :ref:`how-to-partition`\n",
      "    \n",
      "    Examples\n",
      "    --------\n",
      "    >>> import numpy as np\n",
      "    >>> np.linspace(2.0, 3.0, num=5)\n",
      "    array([2.  , 2.25, 2.5 , 2.75, 3.  ])\n",
      "    >>> np.linspace(2.0, 3.0, num=5, endpoint=False)\n",
      "    array([2. ,  2.2,  2.4,  2.6,  2.8])\n",
      "    >>> np.linspace(2.0, 3.0, num=5, retstep=True)\n",
      "    (array([2.  ,  2.25,  2.5 ,  2.75,  3.  ]), 0.25)\n",
      "    \n",
      "    Graphical illustration:\n",
      "    \n",
      "    >>> import matplotlib.pyplot as plt\n",
      "    >>> N = 8\n",
      "    >>> y = np.zeros(N)\n",
      "    >>> x1 = np.linspace(0, 10, N, endpoint=True)\n",
      "    >>> x2 = np.linspace(0, 10, N, endpoint=False)\n",
      "    >>> plt.plot(x1, y, 'o')\n",
      "    [<matplotlib.lines.Line2D object at 0x...>]\n",
      "    >>> plt.plot(x2, y + 0.5, 'o')\n",
      "    [<matplotlib.lines.Line2D object at 0x...>]\n",
      "    >>> plt.ylim([-0.5, 1])\n",
      "    (-0.5, 1)\n",
      "    >>> plt.show()\n",
      "\n"
     ]
    }
   ],
   "source": [
    "help(np.linspace)"
   ]
  },
  {
   "cell_type": "code",
   "execution_count": 32,
   "id": "05e933c8",
   "metadata": {},
   "outputs": [
    {
     "name": "stdout",
     "output_type": "stream",
     "text": [
      "Vertical Stack:\n",
      "[[1 2 3]\n",
      " [4 5 6]]\n",
      "Horizontal Stack: [1 2 3 4 5 6]\n",
      "Concatenate along axis 0 (rows):\n",
      "[[1 2]\n",
      " [3 4]\n",
      " [5 6]\n",
      " [7 8]]\n",
      "Concatenate along axis 1 (columns):\n",
      "[[1 2 5 6]\n",
      " [3 4 7 8]]\n"
     ]
    }
   ],
   "source": [
    "# Stacking and Splitting\n",
    "# np.vstack(): Stack arrays vertically (row-wise).\n",
    "# np.hstack(): Stack arrays horizontally (column-wise).\n",
    "# np.concatenate(): General function to join arrays along an existing axis\n",
    "\n",
    "a1 = np.array([1, 2, 3])\n",
    "a2 = np.array([4, 5, 6])\n",
    "print(f\"Vertical Stack:\\n{np.vstack((a1, a2))}\")\n",
    "print(f\"Horizontal Stack: {np.hstack((a1, a2))}\")\n",
    "\n",
    "mat1 = np.array([[1, 2], [3, 4]])\n",
    "mat2 = np.array([[5, 6], [7, 8]])\n",
    "print(f\"Concatenate along axis 0 (rows):\\n{np.concatenate((mat1, mat2), axis=0)}\")\n",
    "print(f\"Concatenate along axis 1 (columns):\\n{np.concatenate((mat1, mat2), axis=1)}\")"
   ]
  },
  {
   "cell_type": "markdown",
   "id": "8452c4a2",
   "metadata": {},
   "source": []
  }
 ],
 "metadata": {
  "kernelspec": {
   "display_name": "ai-env",
   "language": "python",
   "name": "python3"
  },
  "language_info": {
   "codemirror_mode": {
    "name": "ipython",
    "version": 3
   },
   "file_extension": ".py",
   "mimetype": "text/x-python",
   "name": "python",
   "nbconvert_exporter": "python",
   "pygments_lexer": "ipython3",
   "version": "3.11.4"
  }
 },
 "nbformat": 4,
 "nbformat_minor": 5
}
