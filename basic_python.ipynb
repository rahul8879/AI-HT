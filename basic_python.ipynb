{
 "cells": [
  {
   "cell_type": "code",
   "execution_count": 7,
   "id": "2893290e",
   "metadata": {},
   "outputs": [],
   "source": [
    "# x = True\n",
    "# type(x)  # inbuilt \n",
    "\n",
    "# how to add / sub/m\n",
    "x = input('Enter a value')\n",
    "y = input('Enter a value')"
   ]
  },
  {
   "cell_type": "code",
   "execution_count": 13,
   "id": "fcc5e98d",
   "metadata": {},
   "outputs": [
    {
     "data": {
      "text/plain": [
       "9.0"
      ]
     },
     "execution_count": 13,
     "metadata": {},
     "output_type": "execute_result"
    }
   ],
   "source": [
    "# x+y\n",
    "x_new = float(x)\n",
    "y_new = float(y)\n",
    "result = x_new+y_new\n",
    "result\n",
    "\n"
   ]
  },
  {
   "cell_type": "code",
   "execution_count": null,
   "id": "3674e4a4",
   "metadata": {},
   "outputs": [],
   "source": []
  },
  {
   "cell_type": "code",
   "execution_count": 28,
   "id": "0a13d523",
   "metadata": {},
   "outputs": [
    {
     "name": "stdout",
     "output_type": "stream",
     "text": [
      "Invalid card number\n",
      "All ok\n"
     ]
    }
   ],
   "source": [
    "# lets we will to user  : please enter 14 digit number ( )\n",
    "card_number = input(\"PLease enter 14 digit your card number\")\n",
    "\n",
    "if len(card_number) ==14:\n",
    "    if card_number.startswith('123'):\n",
    "        print('Invalid card number')\n",
    "    print('All ok')\n",
    "    \n",
    "else:\n",
    "    print('I am i side else')\n",
    "\n",
    "\n"
   ]
  },
  {
   "cell_type": "code",
   "execution_count": null,
   "id": "0604f04d",
   "metadata": {},
   "outputs": [
    {
     "data": {
      "text/plain": [
       "np.float64(2.5)"
      ]
     },
     "execution_count": 41,
     "metadata": {},
     "output_type": "execute_result"
    }
   ],
   "source": [
    "marks = [1,2,3,4]\n",
    "type(marks)\n",
    "\n",
    "# \n",
    "candidate = ['A','B','C','D','E']"
   ]
  },
  {
   "cell_type": "code",
   "execution_count": null,
   "id": "df925357",
   "metadata": {},
   "outputs": [
    {
     "name": "stdout",
     "output_type": "stream",
     "text": [
      "A\n",
      "B\n",
      "C\n",
      "I found D\n"
     ]
    }
   ],
   "source": [
    "candidate = ['A','B','C','D','E']\n",
    "\n",
    "for i in candidate:\n",
    "    if i == 'D':\n",
    "        print('I found D')\n",
    "        break  # continue\n",
    "    print(i)"
   ]
  },
  {
   "cell_type": "code",
   "execution_count": null,
   "id": "c3ba93d0",
   "metadata": {},
   "outputs": [
    {
     "name": "stdout",
     "output_type": "stream",
     "text": [
      "4\n"
     ]
    }
   ],
   "source": [
    "number = [2.3,5,7,9,10]\n",
    "# find the odd number\n",
    "count = 0\n",
    "for i in number:\n",
    "    if i %2 !=0:\n",
    "        count = count+1\n",
    "\n",
    "print(count)\n"
   ]
  },
  {
   "cell_type": "code",
   "execution_count": 49,
   "id": "ea0864a3",
   "metadata": {},
   "outputs": [
    {
     "name": "stdout",
     "output_type": "stream",
     "text": [
      "found at location :  3\n"
     ]
    }
   ],
   "source": [
    "candidate\n",
    "for i in range(len(candidate)):\n",
    "    if candidate[i]=='D':\n",
    "        print('found at location : ',i)\n",
    "        break"
   ]
  },
  {
   "cell_type": "code",
   "execution_count": 50,
   "id": "227442d8",
   "metadata": {},
   "outputs": [
    {
     "data": {
      "text/html": [
       "<div>\n",
       "<style scoped>\n",
       "    .dataframe tbody tr th:only-of-type {\n",
       "        vertical-align: middle;\n",
       "    }\n",
       "\n",
       "    .dataframe tbody tr th {\n",
       "        vertical-align: top;\n",
       "    }\n",
       "\n",
       "    .dataframe thead th {\n",
       "        text-align: right;\n",
       "    }\n",
       "</style>\n",
       "<table border=\"1\" class=\"dataframe\">\n",
       "  <thead>\n",
       "    <tr style=\"text-align: right;\">\n",
       "      <th></th>\n",
       "      <th>Id</th>\n",
       "      <th>SepalLengthCm</th>\n",
       "      <th>SepalWidthCm</th>\n",
       "      <th>PetalLengthCm</th>\n",
       "      <th>PetalWidthCm</th>\n",
       "      <th>Species</th>\n",
       "    </tr>\n",
       "  </thead>\n",
       "  <tbody>\n",
       "    <tr>\n",
       "      <th>0</th>\n",
       "      <td>1</td>\n",
       "      <td>5.1</td>\n",
       "      <td>3.5</td>\n",
       "      <td>1.4</td>\n",
       "      <td>0.2</td>\n",
       "      <td>Iris-setosa</td>\n",
       "    </tr>\n",
       "    <tr>\n",
       "      <th>1</th>\n",
       "      <td>2</td>\n",
       "      <td>4.9</td>\n",
       "      <td>3.0</td>\n",
       "      <td>1.4</td>\n",
       "      <td>0.2</td>\n",
       "      <td>Iris-setosa</td>\n",
       "    </tr>\n",
       "  </tbody>\n",
       "</table>\n",
       "</div>"
      ],
      "text/plain": [
       "   Id  SepalLengthCm  SepalWidthCm  PetalLengthCm  PetalWidthCm      Species\n",
       "0   1            5.1           3.5            1.4           0.2  Iris-setosa\n",
       "1   2            4.9           3.0            1.4           0.2  Iris-setosa"
      ]
     },
     "execution_count": 50,
     "metadata": {},
     "output_type": "execute_result"
    }
   ],
   "source": [
    "import pandas as pd\n",
    "df = pd.read_csv('Iris.csv')\n",
    "df.head(2)\n"
   ]
  },
  {
   "cell_type": "code",
   "execution_count": 51,
   "id": "5bcfafcc",
   "metadata": {},
   "outputs": [
    {
     "data": {
      "text/plain": [
       "Species\n",
       "Iris-setosa        50\n",
       "Iris-versicolor    50\n",
       "Iris-virginica     50\n",
       "Name: count, dtype: int64"
      ]
     },
     "execution_count": 51,
     "metadata": {},
     "output_type": "execute_result"
    }
   ],
   "source": [
    "df.Species.value_counts()"
   ]
  },
  {
   "cell_type": "code",
   "execution_count": null,
   "id": "d9d76c53",
   "metadata": {},
   "outputs": [
    {
     "data": {
      "text/plain": [
       "[5.1,\n",
       " 4.9,\n",
       " 4.7,\n",
       " 4.6,\n",
       " 5.0,\n",
       " 5.4,\n",
       " 4.6,\n",
       " 5.0,\n",
       " 4.4,\n",
       " 4.9,\n",
       " 5.4,\n",
       " 4.8,\n",
       " 4.8,\n",
       " 4.3,\n",
       " 5.8,\n",
       " 5.7,\n",
       " 5.4,\n",
       " 5.1,\n",
       " 5.7,\n",
       " 5.1,\n",
       " 5.4,\n",
       " 5.1,\n",
       " 4.6,\n",
       " 5.1,\n",
       " 4.8,\n",
       " 5.0,\n",
       " 5.0,\n",
       " 5.2,\n",
       " 5.2,\n",
       " 4.7,\n",
       " 4.8,\n",
       " 5.4,\n",
       " 5.2,\n",
       " 5.5,\n",
       " 4.9,\n",
       " 5.0,\n",
       " 5.5,\n",
       " 4.9,\n",
       " 4.4,\n",
       " 5.1,\n",
       " 5.0,\n",
       " 4.5,\n",
       " 4.4,\n",
       " 5.0,\n",
       " 5.1,\n",
       " 4.8,\n",
       " 5.1,\n",
       " 4.6,\n",
       " 5.3,\n",
       " 5.0]"
      ]
     },
     "execution_count": 57,
     "metadata": {},
     "output_type": "execute_result"
    }
   ],
   "source": [
    "df_setosa=df[df.Species=='Iris-setosa']\n",
    "\n",
    "df_setosa[['SepalLengthCm','Species']]\n",
    "df_setosa['SepalLengthCm'].tolist()\n",
    "\n",
    "# 0th percentile\n",
    "# 25th percentile\n",
    "# 50th percentile\n",
    "# 75\n",
    "# 100th\\\n",
    "boxplot\n"
   ]
  },
  {
   "cell_type": "code",
   "execution_count": 54,
   "id": "62a3fcc9",
   "metadata": {},
   "outputs": [
    {
     "name": "stdout",
     "output_type": "stream",
     "text": [
      "Collecting seaborn\n",
      "  Using cached seaborn-0.13.2-py3-none-any.whl (294 kB)\n",
      "Requirement already satisfied: numpy!=1.24.0,>=1.20 in c:\\users\\rahul\\documents\\freelancing\\ai-training_ht\\ai-env\\lib\\site-packages (from seaborn) (2.3.1)\n",
      "Requirement already satisfied: pandas>=1.2 in c:\\users\\rahul\\documents\\freelancing\\ai-training_ht\\ai-env\\lib\\site-packages (from seaborn) (2.3.0)\n",
      "Requirement already satisfied: matplotlib!=3.6.1,>=3.4 in c:\\users\\rahul\\documents\\freelancing\\ai-training_ht\\ai-env\\lib\\site-packages (from seaborn) (3.10.3)\n",
      "Requirement already satisfied: contourpy>=1.0.1 in c:\\users\\rahul\\documents\\freelancing\\ai-training_ht\\ai-env\\lib\\site-packages (from matplotlib!=3.6.1,>=3.4->seaborn) (1.3.2)\n",
      "Requirement already satisfied: cycler>=0.10 in c:\\users\\rahul\\documents\\freelancing\\ai-training_ht\\ai-env\\lib\\site-packages (from matplotlib!=3.6.1,>=3.4->seaborn) (0.12.1)\n",
      "Requirement already satisfied: fonttools>=4.22.0 in c:\\users\\rahul\\documents\\freelancing\\ai-training_ht\\ai-env\\lib\\site-packages (from matplotlib!=3.6.1,>=3.4->seaborn) (4.58.5)\n",
      "Requirement already satisfied: kiwisolver>=1.3.1 in c:\\users\\rahul\\documents\\freelancing\\ai-training_ht\\ai-env\\lib\\site-packages (from matplotlib!=3.6.1,>=3.4->seaborn) (1.4.8)\n",
      "Requirement already satisfied: packaging>=20.0 in c:\\users\\rahul\\documents\\freelancing\\ai-training_ht\\ai-env\\lib\\site-packages (from matplotlib!=3.6.1,>=3.4->seaborn) (25.0)\n",
      "Requirement already satisfied: pillow>=8 in c:\\users\\rahul\\documents\\freelancing\\ai-training_ht\\ai-env\\lib\\site-packages (from matplotlib!=3.6.1,>=3.4->seaborn) (11.3.0)\n",
      "Requirement already satisfied: pyparsing>=2.3.1 in c:\\users\\rahul\\documents\\freelancing\\ai-training_ht\\ai-env\\lib\\site-packages (from matplotlib!=3.6.1,>=3.4->seaborn) (3.2.3)\n",
      "Requirement already satisfied: python-dateutil>=2.7 in c:\\users\\rahul\\documents\\freelancing\\ai-training_ht\\ai-env\\lib\\site-packages (from matplotlib!=3.6.1,>=3.4->seaborn) (2.9.0.post0)\n",
      "Requirement already satisfied: pytz>=2020.1 in c:\\users\\rahul\\documents\\freelancing\\ai-training_ht\\ai-env\\lib\\site-packages (from pandas>=1.2->seaborn) (2025.2)\n",
      "Requirement already satisfied: tzdata>=2022.7 in c:\\users\\rahul\\documents\\freelancing\\ai-training_ht\\ai-env\\lib\\site-packages (from pandas>=1.2->seaborn) (2025.2)\n",
      "Requirement already satisfied: six>=1.5 in c:\\users\\rahul\\documents\\freelancing\\ai-training_ht\\ai-env\\lib\\site-packages (from python-dateutil>=2.7->matplotlib!=3.6.1,>=3.4->seaborn) (1.17.0)\n",
      "Installing collected packages: seaborn\n",
      "Successfully installed seaborn-0.13.2\n"
     ]
    },
    {
     "name": "stderr",
     "output_type": "stream",
     "text": [
      "\n",
      "[notice] A new release of pip is available: 23.1.2 -> 25.1.1\n",
      "[notice] To update, run: python.exe -m pip install --upgrade pip\n"
     ]
    }
   ],
   "source": [
    "!pip install seaborn"
   ]
  },
  {
   "cell_type": "code",
   "execution_count": null,
   "id": "25660091",
   "metadata": {},
   "outputs": [
    {
     "data": {
      "image/png": "[encoded data removed]",
      "text/plain": [
       "<Figure size 640x480 with 1 Axes>"
      ]
     },
     "metadata": {},
     "output_type": "display_data"
    }
   ],
   "source": [
    "import seaborn as sns\n",
    "import matplotlib.pyplot as plt\n",
    "\n",
    "\n",
    "sns.boxplot( y=df[\"Species\"], x=df[\"SepalLengthCm\"] );\n",
    "plt.le\n",
    "plt.show()\n"
   ]
  },
  {
   "cell_type": "code",
   "execution_count": null,
   "id": "cf0d5a1d",
   "metadata": {},
   "outputs": [],
   "source": []
  }
 ],
 "metadata": {
  "kernelspec": {
   "display_name": "ai-env",
   "language": "python",
   "name": "python3"
  },
  "language_info": {
   "codemirror_mode": {
    "name": "ipython",
    "version": 3
   },
   "file_extension": ".py",
   "mimetype": "text/x-python",
   "name": "python",
   "nbconvert_exporter": "python",
   "pygments_lexer": "ipython3",
   "version": "3.11.4"
  }
 },
 "nbformat": 4,
 "nbformat_minor": 5
}
